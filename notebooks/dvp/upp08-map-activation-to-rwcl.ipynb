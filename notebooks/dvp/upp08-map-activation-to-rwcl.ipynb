{
 "cells": [
  {
   "cell_type": "markdown",
   "id": "86225ad3-9ed5-4a08-b155-b41c3b2ec698",
   "metadata": {},
   "source": [
    "# Extract results of activation computations for UPP08 to RWCL\n",
    "\n",
    "Dmitry Portnov, May 2021\n",
    "\n",
    "## Goals and input data\n",
    "\n",
    "Extract data from \"component_to_cell.json\" and form a table of values corresponding to RWCL \"Radwaste_Checklist_UPP08.xlsx\"\n",
    "The both files are in the same folder, on 10.106.203.11 this is \"d:\\dvp\\dev\\mcnp\\upp\\wrk\\up08\".\n",
    "\n",
    "## Scenario\n",
    "\n",
    "- Load data from json as map RWCL item -> list of cells in the MCNP model\n",
    "- Load activation data as map cell -> activation values for 12 day of cooliing\n",
    "\n"
   ]
  },
  {
   "cell_type": "code",
   "execution_count": 25,
   "id": "4ade994b-1c4e-415d-a28f-e0a8ad5c79d4",
   "metadata": {},
   "outputs": [],
   "source": [
    "%config Completer.use_jedi = False"
   ]
  },
  {
   "cell_type": "code",
   "execution_count": 26,
   "id": "d6234c6f-d3d9-4d7b-83d1-387e698c0c80",
   "metadata": {},
   "outputs": [],
   "source": [
    "import os, sys"
   ]
  },
  {
   "cell_type": "code",
   "execution_count": 31,
   "id": "c29c6587-60ef-45f3-bf35-a10a2f6480ea",
   "metadata": {
    "tags": []
   },
   "outputs": [],
   "source": [
    "try:\n",
    "    import matplotlib as mpl\n",
    "except ImportError:\n",
    "    !pip install matplotlib\n",
    "    import matplotlib as mpl\n",
    "\n",
    "import matplotlib.pyplot as plt \n",
    "%matplotlib inline"
   ]
  },
  {
   "cell_type": "code",
   "execution_count": 71,
   "id": "103dd0df-dea0-41db-b8f5-eae0549b13dc",
   "metadata": {},
   "outputs": [],
   "source": [
    "import json\n",
    "import pathlib\n",
    "\n",
    "from collections import defaultdict\n",
    "from pathlib import Path\n",
    "from pprint import pprint, pformat\n"
   ]
  },
  {
   "cell_type": "code",
   "execution_count": 152,
   "id": "aa8f7878-f7f6-469a-b2da-73c6569e01e6",
   "metadata": {
    "collapsed": true,
    "execution": {
     "iopub.execute_input": "2021-05-18T14:19:17.161424Z",
     "iopub.status.busy": "2021-05-18T14:19:17.161424Z",
     "iopub.status.idle": "2021-05-18T14:19:17.185477Z",
     "shell.execute_reply": "2021-05-18T14:19:17.183480Z",
     "shell.execute_reply.started": "2021-05-18T14:19:17.161424Z"
    },
    "jupyter": {
     "outputs_hidden": true
    },
    "tags": []
   },
   "outputs": [
    {
     "ename": "ModuleNotFoundError",
     "evalue": "No module named 'pandas'",
     "output_type": "error",
     "traceback": [
      "\u001b[1;31m---------------------------------------------------------------------------\u001b[0m",
      "\u001b[1;31mModuleNotFoundError\u001b[0m                       Traceback (most recent call last)",
      "\u001b[1;32m<ipython-input-152-acfe97717873>\u001b[0m in \u001b[0;36m<module>\u001b[1;34m\u001b[0m\n\u001b[0;32m      1\u001b[0m \u001b[1;32mimport\u001b[0m \u001b[0mnumpy\u001b[0m \u001b[1;32mas\u001b[0m \u001b[0mnp\u001b[0m\u001b[1;33m\u001b[0m\u001b[1;33m\u001b[0m\u001b[0m\n\u001b[1;32m----> 2\u001b[1;33m \u001b[1;32mimport\u001b[0m \u001b[0mpandas\u001b[0m \u001b[1;32mas\u001b[0m \u001b[0mpd\u001b[0m\u001b[1;33m\u001b[0m\u001b[1;33m\u001b[0m\u001b[0m\n\u001b[0m\u001b[0;32m      3\u001b[0m \u001b[1;32mimport\u001b[0m \u001b[0mdotenv\u001b[0m\u001b[1;33m\u001b[0m\u001b[1;33m\u001b[0m\u001b[0m\n\u001b[0;32m      4\u001b[0m \u001b[1;32mfrom\u001b[0m \u001b[0mtqdm\u001b[0m \u001b[1;32mimport\u001b[0m \u001b[0mtqdm\u001b[0m\u001b[1;33m\u001b[0m\u001b[1;33m\u001b[0m\u001b[0m\n",
      "\u001b[1;31mModuleNotFoundError\u001b[0m: No module named 'pandas'"
     ]
    }
   ],
   "source": [
    "import numpy as np\n",
    "import dotenv\n",
    "from tqdm import tqdm"
   ]
  },
  {
   "cell_type": "code",
   "execution_count": 153,
   "id": "08925f8a-f580-4796-a0fb-1c36bf48ddbf",
   "metadata": {
    "execution": {
     "iopub.execute_input": "2021-05-18T14:20:28.168701Z",
     "iopub.status.busy": "2021-05-18T14:20:28.168701Z",
     "iopub.status.idle": "2021-05-18T14:20:35.235552Z",
     "shell.execute_reply": "2021-05-18T14:20:35.235552Z",
     "shell.execute_reply.started": "2021-05-18T14:20:28.168701Z"
    },
    "tags": []
   },
   "outputs": [
    {
     "name": "stdout",
     "output_type": "stream",
     "text": [
      "Collecting pandas\n",
      "  Downloading pandas-1.2.4-cp39-cp39-win_amd64.whl (9.3 MB)\n",
      "Requirement already satisfied: pytz>=2017.3 in d:\\programs\\anaconda3\\envs\\r2s-0.3\\lib\\site-packages (from pandas) (2021.1)\n",
      "Requirement already satisfied: python-dateutil>=2.7.3 in d:\\programs\\anaconda3\\envs\\r2s-0.3\\lib\\site-packages (from pandas) (2.8.1)\n",
      "Requirement already satisfied: numpy>=1.16.5 in d:\\programs\\anaconda3\\envs\\r2s-0.3\\lib\\site-packages (from pandas) (1.20.3)\n",
      "Requirement already satisfied: six>=1.5 in d:\\programs\\anaconda3\\envs\\r2s-0.3\\lib\\site-packages (from python-dateutil>=2.7.3->pandas) (1.16.0)\n",
      "Installing collected packages: pandas\n",
      "Successfully installed pandas-1.2.4\n"
     ]
    }
   ],
   "source": [
    "try:\n",
    "    import pandas as pd\n",
    "except ImportError:\n",
    "    !pip install pandas\n",
    "    import pandas as pd"
   ]
  },
  {
   "cell_type": "code",
   "execution_count": 158,
   "id": "c9acfb7f-47eb-45e3-97c9-05befd7222eb",
   "metadata": {
    "execution": {
     "iopub.execute_input": "2021-05-18T14:54:48.212639Z",
     "iopub.status.busy": "2021-05-18T14:54:48.211641Z",
     "iopub.status.idle": "2021-05-18T14:54:50.547521Z",
     "shell.execute_reply": "2021-05-18T14:54:50.547521Z",
     "shell.execute_reply.started": "2021-05-18T14:54:48.212639Z"
    },
    "tags": []
   },
   "outputs": [
    {
     "name": "stdout",
     "output_type": "stream",
     "text": [
      "Collecting openpyxl\n",
      "  Downloading openpyxl-3.0.7-py2.py3-none-any.whl (243 kB)\n",
      "Collecting et-xmlfile\n",
      "  Downloading et_xmlfile-1.1.0-py3-none-any.whl (4.7 kB)\n",
      "Installing collected packages: et-xmlfile, openpyxl\n",
      "Successfully installed et-xmlfile-1.1.0 openpyxl-3.0.7\n"
     ]
    }
   ],
   "source": [
    "try:\n",
    "    import openpyxl\n",
    "except ImportError:\n",
    "    !pip install openpyxl\n",
    "    import openpyxl"
   ]
  },
  {
   "cell_type": "code",
   "execution_count": 81,
   "id": "1f4f717b-25a3-402c-8bf2-a1310a9d335d",
   "metadata": {},
   "outputs": [],
   "source": [
    "import mckit as mc\n",
    "import r2s_rfda as r2s\n",
    "import r2s_rfda.fetch as r2sft\n",
    "import r2s_rfda.utils as r2sut\n",
    "import r2s_rfda.launcher as r2sln\n",
    "\n",
    "# from r2s_rfda.fetch import load_result_config, load_data, load_result_config\n",
    "# from r2s_rfda import utils\n",
    "# from r2s_rfda.launcher import load_config\n"
   ]
  },
  {
   "cell_type": "code",
   "execution_count": 48,
   "id": "b2b84649-bcf3-4a50-8bd5-8c30fb002b4a",
   "metadata": {},
   "outputs": [],
   "source": [
    "# If exists local \".env\" file, then load it to environment.\n",
    "dotenv.load_dotenv();"
   ]
  },
  {
   "cell_type": "code",
   "execution_count": 53,
   "id": "4a9bcc50-c775-43c3-ad08-db6db0f4be6d",
   "metadata": {},
   "outputs": [],
   "source": [
    "def all_exist(*paths: Path) -> bool:\n",
    "    return all(map(Path.exists, paths))\n",
    "def all_are_files(*paths: Path) -> bool:\n",
    "    return all(map(Path.is_file, paths))\n",
    "def all_are_dirs(*paths: Path) -> bool:\n",
    "    return all(map(Path.is_dir, paths))\n"
   ]
  },
  {
   "cell_type": "code",
   "execution_count": 155,
   "id": "54ec99f3-0342-4b98-9dbe-d8f9869711c3",
   "metadata": {
    "execution": {
     "iopub.execute_input": "2021-05-18T14:42:03.942231Z",
     "iopub.status.busy": "2021-05-18T14:42:03.941232Z",
     "iopub.status.idle": "2021-05-18T14:42:03.951363Z",
     "shell.execute_reply": "2021-05-18T14:42:03.950244Z",
     "shell.execute_reply.started": "2021-05-18T14:42:03.942231Z"
    },
    "tags": []
   },
   "outputs": [],
   "source": [
    "ROOT: Path = Path(os.getenv(\"UP08_ACT_ROOT\", r'd:\\dvp\\dev\\mcnp\\upp\\wrk\\up08'))\n",
    "r2swrk: Path = ROOT / \"r2s\"\n",
    "pjson: Path = ROOT / \"component_to_cell.json\"\n",
    "rwclinput: Path = ROOT / \"Radwaste_Checklist_UPP08.xlsx\"\n",
    "\n",
    "assert all_exist(ROOT, r2swrk, pjson, rwclinput)\n",
    "assert all_are_dirs(ROOT, r2swrk)\n",
    "assert all_are_files(pjson, rwclinput)\n"
   ]
  },
  {
   "cell_type": "markdown",
   "id": "885cda9e-8e23-403c-b6f9-7f15645905d5",
   "metadata": {},
   "source": [
    "## Load RWCL->cells mapping from JSON"
   ]
  },
  {
   "cell_type": "code",
   "execution_count": 74,
   "id": "849bad2b-4f73-4766-bde1-b138528b8959",
   "metadata": {
    "tags": []
   },
   "outputs": [
    {
     "name": "stdout",
     "output_type": "stream",
     "text": [
      "['Blade2',\n",
      " 'Blade3',\n",
      " 'Blade4',\n",
      " 'Blade5',\n",
      " 'Blade6',\n",
      " 'Blade7',\n",
      " 'Blade8',\n",
      " 'DFW_left',\n",
      " 'DFW_right',\n",
      " 'DMS_front',\n",
      " 'DMS_rear',\n",
      " 'DSM',\n",
      " 'DSM_down',\n",
      " 'DSM_up',\n",
      " 'Flange',\n",
      " 'Flange_ext',\n",
      " 'Frame1',\n",
      " 'Frame_bottom',\n",
      " 'Frame_top',\n",
      " 'GDC',\n",
      " 'Interspace_left_block',\n",
      " 'Interspace_left_frame',\n",
      " 'Interspace_lower_shielding',\n",
      " 'Interspace_right_block',\n",
      " 'Interspace_right_frame',\n",
      " 'Interspace_top_frame',\n",
      " 'Mount_bottom',\n",
      " 'Mount_left',\n",
      " 'Mount_right',\n",
      " 'Mount_up',\n",
      " 'Rear_box',\n",
      " 'Reflectometer_left',\n",
      " 'Reflectometer_rear',\n",
      " 'Reflectometer_right',\n",
      " 'Shielding1',\n",
      " 'Shielding10',\n",
      " 'Shielding2',\n",
      " 'Shielding3',\n",
      " 'Shielding4',\n",
      " 'Shielding5',\n",
      " 'Shielding6',\n",
      " 'Shielding7',\n",
      " 'Shielding8',\n",
      " 'Shielding_rear_left',\n",
      " 'Shielding_rear_right',\n",
      " 'Shielding_segment_9',\n",
      " 'Trapezoid',\n",
      " 'Vis_exvessel',\n",
      " 'Visir_flange',\n",
      " 'Visir_invessel']\n"
     ]
    }
   ],
   "source": [
    "with pjson.open() as fid:\n",
    "    djson = json.load(fid)\n",
    "pprint(sorted(djson.keys()))"
   ]
  },
  {
   "cell_type": "markdown",
   "id": "85f4f995-abe3-44ca-8aa5-f68a01ed9a4c",
   "metadata": {},
   "source": [
    "## Load Cell->activation data mapping from R2S working folder"
   ]
  },
  {
   "cell_type": "code",
   "execution_count": 84,
   "id": "ca9d4c22-12c8-423f-b6c9-70b723264dcf",
   "metadata": {
    "tags": []
   },
   "outputs": [],
   "source": [
    "r2s_launch_conf = r2sln.load_config(r2swrk)\n",
    "r2s_result_conf = r2sft.load_result_config(r2swrk)"
   ]
  },
  {
   "cell_type": "code",
   "execution_count": 88,
   "id": "46812b0f-68fe-446b-9d94-ea417f525eff",
   "metadata": {},
   "outputs": [],
   "source": [
    "time = r2sut.convert_time_literal('12d')\n",
    "time_labels = list(sorted(r2s_result_conf['gamma'].keys()))\n",
    "time += time_labels[r2s_launch_conf['zero']]\n",
    "closest_lab = r2sut.find_closest(time, time_labels)\n",
    "# closest_lab"
   ]
  },
  {
   "cell_type": "code",
   "execution_count": 97,
   "id": "2d4d96ee-cca3-4c32-8f19-900fc253b98b",
   "metadata": {},
   "outputs": [
    {
     "data": {
      "text/plain": [
       "dict_keys(['gamma', 'atoms', 'activity'])"
      ]
     },
     "execution_count": 97,
     "metadata": {},
     "output_type": "execute_result"
    }
   ],
   "source": [
    "r2s_result_conf.keys()"
   ]
  },
  {
   "cell_type": "code",
   "execution_count": 101,
   "id": "799c3277-a05a-45fb-9217-69ecb0b0e123",
   "metadata": {},
   "outputs": [],
   "source": [
    "activation_paths = r2s_result_conf[\"activity\"]\n",
    "activation_paths\n",
    "act_data = r2sft.load_data(r2swrk / activation_paths[closest_lab])"
   ]
  },
  {
   "cell_type": "code",
   "execution_count": 190,
   "id": "adde0416-3222-4c4b-b2d8-c0659366533d",
   "metadata": {
    "execution": {
     "iopub.execute_input": "2021-05-18T15:39:43.561535Z",
     "iopub.status.busy": "2021-05-18T15:39:43.561535Z",
     "iopub.status.idle": "2021-05-18T15:39:43.577170Z",
     "shell.execute_reply": "2021-05-18T15:39:43.577170Z",
     "shell.execute_reply.started": "2021-05-18T15:39:43.561535Z"
    },
    "tags": []
   },
   "outputs": [
    {
     "data": {
      "text/plain": [
       "6349.120992777404"
      ]
     },
     "execution_count": 190,
     "metadata": {},
     "output_type": "execute_result"
    }
   ],
   "source": [
    "# Estimate correction factor for tqdm progressbar total value.\n",
    "its=80625951000\n",
    "its/act_data._data.nnz"
   ]
  },
  {
   "cell_type": "code",
   "execution_count": 189,
   "id": "890add22-700a-464a-86ce-b001826a2051",
   "metadata": {
    "execution": {
     "iopub.execute_input": "2021-05-18T15:39:34.242689Z",
     "iopub.status.busy": "2021-05-18T15:39:34.241690Z",
     "iopub.status.idle": "2021-05-18T15:39:34.247690Z",
     "shell.execute_reply": "2021-05-18T15:39:34.246690Z",
     "shell.execute_reply.started": "2021-05-18T15:39:34.241690Z"
    },
    "tags": []
   },
   "outputs": [],
   "source": [
    "tqdm_correction = 6400"
   ]
  },
  {
   "cell_type": "code",
   "execution_count": 114,
   "id": "3c3ef1ad-77b5-45d4-a426-5a1c4e767494",
   "metadata": {},
   "outputs": [
    {
     "name": "stderr",
     "output_type": "stream",
     "text": [
      "80625951000it [14:15, 94230253.73it/s]                                                                                             \n"
     ]
    }
   ],
   "source": [
    "cell_activity = defaultdict(float)\n",
    "with tqdm(total=act_data._data.nnz * tqdm_correction) as pbar:\n",
    "    for cnt, ((g, c, i, j, k), act) in enumerate(act_data.iter_nonzero()):\n",
    "        cell_activity[c] += act\n",
    "        #print(act_data.gbins[g], c, i, j, k, act)\n",
    "        #i += 1\n",
    "        #if i == 1000:\n",
    "        #    break\n",
    "        if cnt % 1000 == 0:\n",
    "            pbar.update(cnt)"
   ]
  },
  {
   "cell_type": "markdown",
   "id": "e6eb8f64-b6e9-4d71-a26d-2edee020f0a2",
   "metadata": {
    "execution": {
     "iopub.execute_input": "2021-05-18T14:10:17.562268Z",
     "iopub.status.busy": "2021-05-18T14:10:17.561268Z",
     "iopub.status.idle": "2021-05-18T14:10:17.571269Z",
     "shell.execute_reply": "2021-05-18T14:10:17.570270Z",
     "shell.execute_reply.started": "2021-05-18T14:10:17.561268Z"
    },
    "tags": []
   },
   "source": [
    "## Map RWCL items to activity value"
   ]
  },
  {
   "cell_type": "code",
   "execution_count": 169,
   "id": "bafc0e73-17c3-4bec-9866-16be291db637",
   "metadata": {
    "execution": {
     "iopub.execute_input": "2021-05-18T15:02:00.122765Z",
     "iopub.status.busy": "2021-05-18T15:02:00.122765Z",
     "iopub.status.idle": "2021-05-18T15:02:00.142596Z",
     "shell.execute_reply": "2021-05-18T15:02:00.141595Z",
     "shell.execute_reply.started": "2021-05-18T15:02:00.122765Z"
    },
    "tags": []
   },
   "outputs": [],
   "source": [
    "rwcl_item_activity = defaultdict(float)\n",
    "for i, (k, v) in enumerate(djson.items()):\n",
    "    for c in v:\n",
    "        rwcl_item_activity[k] += cell_activity.get(c, 0.0)"
   ]
  },
  {
   "cell_type": "code",
   "execution_count": 170,
   "id": "c0b2897e-3a0a-47b7-b267-98622d2c30b7",
   "metadata": {
    "execution": {
     "iopub.execute_input": "2021-05-18T15:02:03.942130Z",
     "iopub.status.busy": "2021-05-18T15:02:03.942130Z",
     "iopub.status.idle": "2021-05-18T15:02:04.003457Z",
     "shell.execute_reply": "2021-05-18T15:02:04.002449Z",
     "shell.execute_reply.started": "2021-05-18T15:02:03.942130Z"
    },
    "tags": []
   },
   "outputs": [],
   "source": [
    "rwclinput_df = pd.read_excel(rwclinput, sheet_name=\"UPP02\", engine=\"openpyxl\")"
   ]
  },
  {
   "cell_type": "code",
   "execution_count": 175,
   "id": "a10fc632-b8a8-4ff0-8713-345393477bef",
   "metadata": {
    "execution": {
     "iopub.execute_input": "2021-05-18T15:05:28.853671Z",
     "iopub.status.busy": "2021-05-18T15:05:28.852671Z",
     "iopub.status.idle": "2021-05-18T15:05:28.869536Z",
     "shell.execute_reply": "2021-05-18T15:05:28.869536Z",
     "shell.execute_reply.started": "2021-05-18T15:05:28.853671Z"
    },
    "tags": []
   },
   "outputs": [],
   "source": [
    "rwclout_keys = rwclinput_df[rwclinput_df.columns[2]]"
   ]
  },
  {
   "cell_type": "code",
   "execution_count": 176,
   "id": "31b38ee6-bec7-4f0c-abfb-23e344f4a4a9",
   "metadata": {
    "execution": {
     "iopub.execute_input": "2021-05-18T15:05:30.111236Z",
     "iopub.status.busy": "2021-05-18T15:05:30.110237Z",
     "iopub.status.idle": "2021-05-18T15:05:30.123237Z",
     "shell.execute_reply": "2021-05-18T15:05:30.122237Z",
     "shell.execute_reply.started": "2021-05-18T15:05:30.111236Z"
    },
    "tags": []
   },
   "outputs": [
    {
     "data": {
      "text/plain": [
       "0                                                NaN\n",
       "1                                                NaN\n",
       "2                                                NaN\n",
       "3                                           DFW Left\n",
       "4                                          DFW Right\n",
       "5                                                DSM\n",
       "6                       Side plate #1-18 (18 pieces)\n",
       "7                                          Frame Top\n",
       "8                                       Frame Bottom\n",
       "9                                     Frame Blade #1\n",
       "10                                    Frame Blade #2\n",
       "11                                    Frame Blade #3\n",
       "12                                    Frame Blade #4\n",
       "13                                    Frame Blade #5\n",
       "14                                    Frame Blade #6\n",
       "15                                    Frame Blade #7\n",
       "16                                    Frame Blade #8\n",
       "17                                    Frame Blade #9\n",
       "18                              DSM Rails (2 pieces)\n",
       "19                                          PP Tubes\n",
       "20    PP Generics (pads, skids, gripping - 8 pieces)\n",
       "21                                      PP structure\n",
       "22                        Generic Screws (50 pieces)\n",
       "23                             Rear frame shielding1\n",
       "24                             Rear frame shielding2\n",
       "25                             Rear frame shielding3\n",
       "26                             Rear frame shielding4\n",
       "27                             Rear frame shielding5\n",
       "28                             Rear frame shielding6\n",
       "29                             Rear frame shielding7\n",
       "30                             Rear frame shielding8\n",
       "31                             Rear frame shielding9\n",
       "32                         Rear box shielding (left)\n",
       "33                        Rear box shielding (right)\n",
       "34              Rear box shielding plates (8 pieces)\n",
       "35                                          Manifold\n",
       "Name: Equipment part (see 4.1), dtype: object"
      ]
     },
     "execution_count": 176,
     "metadata": {},
     "output_type": "execute_result"
    }
   ],
   "source": [
    "rwclout_keys"
   ]
  },
  {
   "cell_type": "code",
   "execution_count": 185,
   "id": "d8dbf58f-22ec-45b9-a549-2e28a26602f1",
   "metadata": {
    "execution": {
     "iopub.execute_input": "2021-05-18T15:29:20.971856Z",
     "iopub.status.busy": "2021-05-18T15:29:20.971856Z",
     "iopub.status.idle": "2021-05-18T15:29:20.976854Z",
     "shell.execute_reply": "2021-05-18T15:29:20.975857Z",
     "shell.execute_reply.started": "2021-05-18T15:29:20.971856Z"
    },
    "tags": []
   },
   "outputs": [],
   "source": [
    "# sorted(rwcl_item_activity.keys())"
   ]
  },
  {
   "cell_type": "code",
   "execution_count": null,
   "id": "dc72182c-9704-4981-8117-c4fef77dedd2",
   "metadata": {},
   "outputs": [],
   "source": [
    "rwcl2json = {\n",
    " \"Frame Blade #1\": None,\n",
    " \"Frame Blade #2\": 'Blade2',\n",
    " \"Frame Blade #3\": 'Blade3',\n",
    " \"Frame Blade #4\": 'Blade4',\n",
    " \"Frame Blade #5\": 'Blade5',\n",
    " \"Frame Blade #6\": 'Blade6',\n",
    " \"Frame Blade #7\": 'Blade7',\n",
    " \"Frame Blade #8\": 'Blade8',\n",
    " \"DFW Left\": 'DFW_left',\n",
    " \"DFW Right\": 'DFW_right',\n",
    "#  'DMS_front',\n",
    "#  'DMS_rear',\n",
    " \"DSM\": 'DSM',\n",
    "#  'DSM_down',\n",
    "#  'DSM_up',\n",
    " 'Flange',\n",
    " 'Flange_ext',\n",
    " 'Frame1',\n",
    " 'Frame_bottom',\n",
    " 'Frame_top',\n",
    " 'GDC',\n",
    " 'Interspace_left_block',\n",
    " 'Interspace_left_frame',\n",
    " 'Interspace_lower_shielding',\n",
    " 'Interspace_right_block',\n",
    " 'Interspace_right_frame',\n",
    " 'Interspace_top_frame',\n",
    " 'Mount_bottom',\n",
    " 'Mount_left',\n",
    " 'Mount_right',\n",
    " 'Mount_up',\n",
    " 'Rear_box',\n",
    " 'Reflectometer_left',\n",
    " 'Reflectometer_rear',\n",
    " 'Reflectometer_right',\n",
    " 'Shielding1',\n",
    " 'Shielding10',\n",
    " 'Shielding2',\n",
    " 'Shielding3',\n",
    " 'Shielding4',\n",
    " 'Shielding5',\n",
    " 'Shielding6',\n",
    " 'Shielding7',\n",
    " 'Shielding8',\n",
    " 'Shielding_rear_left',\n",
    " 'Shielding_rear_right',\n",
    " 'Shielding_segment_9',\n",
    " 'Trapezoid',\n",
    " 'Vis_exvessel',\n",
    " 'Visir_flange',\n",
    " 'Visir_invessel']"
   ]
  },
  {
   "cell_type": "code",
   "execution_count": 186,
   "id": "68445178-7d58-4d42-ad90-12b758d0cb49",
   "metadata": {
    "execution": {
     "iopub.execute_input": "2021-05-18T15:35:57.179073Z",
     "iopub.status.busy": "2021-05-18T15:35:57.178074Z",
     "iopub.status.idle": "2021-05-18T15:35:57.195076Z",
     "shell.execute_reply": "2021-05-18T15:35:57.195076Z",
     "shell.execute_reply.started": "2021-05-18T15:35:57.179073Z"
    },
    "tags": []
   },
   "outputs": [
    {
     "name": "stdout",
     "output_type": "stream",
     "text": [
      "No data for component 3 DFW Left\n",
      "No data for component 4 DFW Right\n",
      "No data for component 6 Side plate #1-18 (18 pieces)\n",
      "No data for component 7 Frame Top\n",
      "No data for component 8 Frame Bottom\n",
      "No data for component 9 Frame Blade #1\n",
      "No data for component 10 Frame Blade #2\n",
      "No data for component 11 Frame Blade #3\n",
      "No data for component 12 Frame Blade #4\n",
      "No data for component 13 Frame Blade #5\n",
      "No data for component 14 Frame Blade #6\n",
      "No data for component 15 Frame Blade #7\n",
      "No data for component 16 Frame Blade #8\n",
      "No data for component 17 Frame Blade #9\n",
      "No data for component 18 DSM Rails (2 pieces)\n",
      "No data for component 19 PP Tubes\n",
      "No data for component 20 PP Generics (pads, skids, gripping - 8 pieces)\n",
      "No data for component 21 PP structure\n",
      "No data for component 22 Generic Screws (50 pieces)\n",
      "No data for component 23 Rear frame shielding1\n",
      "No data for component 24 Rear frame shielding2\n",
      "No data for component 25 Rear frame shielding3\n",
      "No data for component 26 Rear frame shielding4\n",
      "No data for component 27 Rear frame shielding5\n",
      "No data for component 28 Rear frame shielding6\n",
      "No data for component 29 Rear frame shielding7\n",
      "No data for component 30 Rear frame shielding8\n",
      "No data for component 31 Rear frame shielding9\n",
      "No data for component 32 Rear box shielding (left)\n",
      "No data for component 33 Rear box shielding (right)\n",
      "No data for component 34 Rear box shielding plates (8 pieces)\n",
      "No data for component 35 Manifold\n"
     ]
    },
    {
     "data": {
      "text/plain": [
       "array([           nan,            nan,            nan,            nan,\n",
       "                  nan, 9.57321799e+13,            nan,            nan,\n",
       "                  nan,            nan,            nan,            nan,\n",
       "                  nan,            nan,            nan,            nan,\n",
       "                  nan,            nan,            nan,            nan,\n",
       "                  nan,            nan,            nan,            nan,\n",
       "                  nan,            nan,            nan,            nan,\n",
       "                  nan,            nan,            nan,            nan,\n",
       "                  nan,            nan,            nan,            nan])"
      ]
     },
     "execution_count": 186,
     "metadata": {},
     "output_type": "execute_result"
    }
   ],
   "source": [
    "activation_column = np.zeros(len(rwclout_keys), dtype=float)\n",
    "\n",
    "for i, key in enumerate(rwclout_keys):\n",
    "    if key is np.NaN:\n",
    "        activation_column[i] = np.NaN\n",
    "    else:\n",
    "        activity = rwcl_item_activity.get(key, None)\n",
    "        if activity is None:\n",
    "            print(f\"No data for component {i} {key}\")\n",
    "            activation_column[i] = np.NaN\n",
    "        else:\n",
    "            activation_column[i] = activity\n",
    "    \n",
    "activation_column"
   ]
  }
 ],
 "metadata": {
  "kernelspec": {
   "display_name": "r2s-0.3",
   "language": "python",
   "name": "r2s-0.3"
  },
  "language_info": {
   "codemirror_mode": {
    "name": "ipython",
    "version": 3
   },
   "file_extension": ".py",
   "mimetype": "text/x-python",
   "name": "python",
   "nbconvert_exporter": "python",
   "pygments_lexer": "ipython3",
   "version": "3.9.4"
  }
 },
 "nbformat": 4,
 "nbformat_minor": 5
}
